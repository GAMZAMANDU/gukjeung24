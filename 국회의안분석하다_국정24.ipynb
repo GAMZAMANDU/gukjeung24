{
 "cells": [
  {
   "cell_type": "markdown",
   "metadata": {
    "colab_type": "text",
    "id": "view-in-github"
   },
   "source": [
    "<a href=\"https://colab.research.google.com/github/GAMZAMANDU/gukjeung24/blob/main/%E1%84%80%E1%85%AE%E1%86%A8%E1%84%92%E1%85%AC%E1%84%8B%E1%85%B4%E1%84%8B%E1%85%A1%E1%86%AB%E1%84%87%E1%85%AE%E1%86%AB%E1%84%89%E1%85%A5%E1%86%A8%ED%95%98%EB%8B%A4_%EA%B5%AD%EC%A0%9524.ipynb\" target=\"_parent\"><img src=\"https://colab.research.google.com/assets/colab-badge.svg\" alt=\"Open In Colab\"/></a>"
   ]
  },
  {
   "cell_type": "markdown",
   "id": "75d0f127",
   "metadata": {
    "id": "75d0f127"
   },
   "source": [
    "# 국회의안 데이터 분석 프로젝트 - 국정24\n",
    "\n",
    "## 프로젝트 개요\n",
    "본 프로젝트는 국회 Open API를 활용하여 22대 국회 의원들의 정책 분야별 활동을 분석하는 프로젝트입니다.\n",
    "\n",
    "### 분석 목표\n",
    "- 국회 의원별 정책 분야 집중도 분석한다\n",
    "- 정책 분야별 활동 현황 파악한다\n",
    "- 의원별 발의 의안 특성 분석한다\n",
    "\n",
    "### 분석 과정\n",
    "1. **데이터 전처리**: Open API 데이터 수집 및 정제\n",
    "2. **데이터 분석**: 의원별 정책 분야 점수 계산\n",
    "3. **데이터 시각화**: 히트맵을 통한 시각적 분석\n"
   ]
  },
  {
   "cell_type": "markdown",
   "id": "05b7dc86",
   "metadata": {
    "id": "05b7dc86"
   },
   "source": [
    "# 1. 데이터 전처리 (Data Preprocessing)\n",
    "\n",
    "## 1.1 필요한 라이브러리 임포트"
   ]
  },
  {
   "cell_type": "code",
   "execution_count": 2,
   "id": "dcf996c1",
   "metadata": {
    "colab": {
     "base_uri": "https://localhost:8080/"
    },
    "id": "dcf996c1",
    "outputId": "3576103b-5a05-4e20-c5b9-9deefb25383a"
   },
   "outputs": [
    {
     "name": "stdout",
     "output_type": "stream",
     "text": [
      "✅ 라이브러리 임포트 및 한글 폰트 설정 완료\n"
     ]
    }
   ],
   "source": [
    "import requests\n",
    "import pandas as pd\n",
    "import json\n",
    "import numpy as np\n",
    "from collections import defaultdict\n",
    "import matplotlib.pyplot as plt\n",
    "import seaborn as sns\n",
    "import plotly.express as px\n",
    "import plotly.graph_objects as go\n",
    "import platform\n",
    "\n",
    "\n",
    "plt.rcParams['font.family'] = 'NanumGothic'\n",
    "plt.rcParams['axes.unicode_minus'] = False # 마이너스 폰트 깨짐 방지\n",
    "\n",
    "import warnings\n",
    "warnings.filterwarnings('ignore')\n",
    "\n",
    "print(\"라이브러리 임포트 및 한글 폰트 설정 완료\")"
   ]
  },
  {
   "cell_type": "markdown",
   "id": "1c8d937a",
   "metadata": {
    "id": "1c8d937a"
   },
   "source": [
    "## 1.2 API 설정 및 연결 테스트"
   ]
  },
  {
   "cell_type": "code",
   "execution_count": null,
   "id": "0f43e6a5",
   "metadata": {
    "colab": {
     "base_uri": "https://localhost:8080/"
    },
    "id": "0f43e6a5",
    "outputId": "3855f8bd-1d59-4355-94a7-24d0cd92f729"
   },
   "outputs": [
    {
     "name": "stdout",
     "output_type": "stream",
     "text": [
      "=== 국회 Open API 연결 테스트 ===\n",
      "API 응답 상태: 200\n",
      "✅ API 연결 성공!\n",
      "응답 데이터 구조 키들: ['nwbpacrgavhjryiph']\n"
     ]
    }
   ],
   "source": [
    "API_KEY = \"\"\n",
    "BILL_URL = \"https://open.assembly.go.kr/portal/openapi/nwbpacrgavhjryiph\"\n",
    "VOTE_URL = \"https://open.assembly.go.kr/portal/openapi/ncocpgfiaoituanbr\"\n",
    "MEMBER_URL = \"https://open.assembly.go.kr/portal/openapi/nwbpacrgavhjryiph\"\n",
    "\n",
    "def test_api():\n",
    "    print(\"=== 국회 Open API 연결 테스트 ===\")\n",
    "\n",
    "    params = {\n",
    "        'Key': API_KEY,\n",
    "        'Type': 'json',\n",
    "        'pIndex': 1,\n",
    "        'pSize': 5,\n",
    "        'AGE': '22'\n",
    "    }\n",
    "\n",
    "    try:\n",
    "        response = requests.get(BILL_URL, params=params)\n",
    "        print(f\"API 응답 상태: {response.status_code}\")\n",
    "\n",
    "        if response.status_code == 200:\n",
    "            data = response.json()\n",
    "            print(\"✅ API 연결 성공!\")\n",
    "            print(f\"응답 데이터 구조 키들: {list(data.keys())}\")\n",
    "            return True, data\n",
    "        else:\n",
    "            print(f\"❌ API 연결 실패: {response.text}\")\n",
    "            return False, None\n",
    "\n",
    "    except Exception as e:\n",
    "        print(f\"❌ API 연결 중 오류 발생: {e}\")\n",
    "        return False, None\n",
    "\n",
    "success, sample_data = test_api()"
   ]
  },
  {
   "cell_type": "markdown",
   "id": "2191c420",
   "metadata": {
    "id": "2191c420"
   },
   "source": [
    "## 1.3 데이터 수집 및 정제"
   ]
  },
  {
   "cell_type": "code",
   "execution_count": 4,
   "id": "4b521d3f",
   "metadata": {
    "colab": {
     "base_uri": "https://localhost:8080/"
    },
    "id": "4b521d3f",
    "outputId": "bade29e6-f58c-4e7e-f5f2-88499b6f1584"
   },
   "outputs": [
    {
     "name": "stdout",
     "output_type": "stream",
     "text": [
      "=== 국회 의안 데이터 수집 시작 ===\n",
      "📄 페이지 1: 100건 수집\n",
      "📄 페이지 2: 100건 수집\n",
      "📄 페이지 3: 100건 수집\n",
      "✅ 총 수집된 의안 데이터: 300건\n"
     ]
    }
   ],
   "source": [
    "def collect_bills(max_pages=3):\n",
    "    print(\"=== 국회 의안 데이터 수집 시작 ===\")\n",
    "    all_bills = []\n",
    "\n",
    "    for page in range(1, max_pages + 1):\n",
    "        params = {\n",
    "            'Key': API_KEY,\n",
    "            'Type': 'json',\n",
    "            'pIndex': page,\n",
    "            'pSize': 100,\n",
    "            'AGE': '22'\n",
    "        }\n",
    "\n",
    "        try:\n",
    "            response = requests.get(BILL_URL, params=params)\n",
    "\n",
    "            if response.status_code == 200:\n",
    "                data = response.json()\n",
    "                bills = data['nwbpacrgavhjryiph'][1]['row']\n",
    "                all_bills.extend(bills)\n",
    "                print(f\"📄 페이지 {page}: {len(bills)}건 수집\")\n",
    "            else:\n",
    "                print(f\"❌ 페이지 {page} 수집 실패\")\n",
    "                break\n",
    "\n",
    "        except Exception as e:\n",
    "            print(f\"❌ 페이지 {page} 수집 중 오류: {e}\")\n",
    "            break\n",
    "\n",
    "    print(f\"✅ 총 수집된 의안 데이터: {len(all_bills)}건\")\n",
    "    return all_bills\n",
    "\n",
    "bills_data = collect_bills(max_pages=3)"
   ]
  },
  {
   "cell_type": "code",
   "execution_count": 5,
   "id": "860ba92a",
   "metadata": {
    "colab": {
     "base_uri": "https://localhost:8080/"
    },
    "id": "860ba92a",
    "outputId": "f3853220-93f7-4086-8f50-b9605b41ebd9"
   },
   "outputs": [
    {
     "name": "stdout",
     "output_type": "stream",
     "text": [
      "=== pandas를 활용한 의원별 데이터 정리 ===\n",
      "📊 전체 의안 데이터: 300건\n",
      "📊 주발의자가 명확한 의안: 91건\n",
      "📊 개별 의원 수: 73명\n",
      "📈 2건 이상 발의한 활발한 의원: 15명\n"
     ]
    }
   ],
   "source": [
    "def extract_proposer(text):\n",
    "    if pd.isna(text) or '의원' not in text:\n",
    "        return None\n",
    "\n",
    "    if '등' in text:\n",
    "        main = text.split('등')[0].strip()\n",
    "        if '의원' in main:\n",
    "            return main\n",
    "    else:\n",
    "        if text.endswith('의원'):\n",
    "            return text\n",
    "\n",
    "    return None\n",
    "\n",
    "def organize_bills(bills_data):\n",
    "    df = pd.DataFrame(bills_data)\n",
    "    print(f\"📊 전체 의안 데이터: {len(df)}건\")\n",
    "\n",
    "    df['proposer'] = df['PROPOSER'].apply(extract_proposer)\n",
    "\n",
    "    df_valid = df.dropna(subset=['proposer']).copy()\n",
    "    print(f\"📊 주발의자가 명확한 의안: {len(df_valid)}건\")\n",
    "\n",
    "    bill_counts = df_valid.groupby('proposer').size().to_dict()\n",
    "    print(f\"📊 개별 의원 수: {len(bill_counts)}명\")\n",
    "\n",
    "    active_names = df_valid.groupby('proposer').size()\n",
    "    active_names = active_names[active_names >= 2].index.tolist()\n",
    "\n",
    "    active_df = df_valid[df_valid['proposer'].isin(active_names)]\n",
    "    print(f\"📈 2건 이상 발의한 활발한 의원: {len(active_names)}명\")\n",
    "\n",
    "    active_members = {}\n",
    "    for member in active_names:\n",
    "        member_bills = active_df[active_df['proposer'] == member]\n",
    "        active_members[member] = [\n",
    "            {\n",
    "                'bill_no': row['BILL_NO'],\n",
    "                'bill_name': row['BILL_NM'],\n",
    "                'propose_date': row['PROPOSE_DT'],\n",
    "                'proc_result': row['PROC_RESULT_CD']\n",
    "            }\n",
    "            for _, row in member_bills.iterrows()\n",
    "        ]\n",
    "\n",
    "    return df, active_members, bill_counts, active_df\n",
    "\n",
    "bills_df, active_members, bill_counts, active_df = organize_bills(bills_data)"
   ]
  },
  {
   "cell_type": "markdown",
   "id": "a0642cf5",
   "metadata": {
    "id": "a0642cf5"
   },
   "source": [
    "# 2. 데이터 분석 (Data Analysis)\n",
    "\n",
    "## 2.1 기초 데이터 탐색"
   ]
  },
  {
   "cell_type": "code",
   "execution_count": null,
   "id": "e6fcf7af",
   "metadata": {
    "colab": {
     "base_uri": "https://localhost:8080/"
    },
    "id": "e6fcf7af",
    "outputId": "fc41b682-8938-4d35-d17e-6e60c8a13534"
   },
   "outputs": [
    {
     "name": "stdout",
     "output_type": "stream",
     "text": [
      "=== 데이터 개요 ===\n",
      "📊 총 수집된 의안: 300건\n",
      "👥 전체 의원 수: 73명\n",
      "🎯 분석 대상 의원: 15명 (2건 이상 발의)\n",
      "\n",
      "=== 의원별 발의 현황 (상위 10명) ===\n",
      " 1. 김예지의원: 3건\n",
      " 2. 정을호의원: 3건\n",
      " 3. 백승아의원: 3건\n",
      " 4. 민형배의원: 2건\n",
      " 5. 박용갑의원: 2건\n",
      " 6. 임오경의원: 2건\n",
      " 7. 이원택의원: 2건\n",
      " 8. 조계원의원: 2건\n",
      " 9. 김미애의원: 2건\n",
      "10. 김성원의원: 2건\n",
      "\n",
      "=== 실제 의안 예시 ===\n",
      "1. 우주항공청의 설치 및 운영에 관한 특별법 일부개정법률안(서천호의원 등 18인)\n",
      "   제안자: 서천호의원 등 18인\n",
      "   제안일: 2025-06-17\n",
      "\n",
      "2. 남북교류협력에 관한 법률 일부개정법률안(김준형의원 등 11인)\n",
      "   제안자: 김준형의원 등 11인\n",
      "   제안일: 2025-06-11\n",
      "\n",
      "3. 정보통신망 이용촉진 및 정보보호 등에 관한 법률 일부개정법률안(조인철의원 등 11인)\n",
      "   제안자: 조인철의원 등 11인\n",
      "   제안일: 2025-05-30\n",
      "\n",
      "4. 게임산업진흥에 관한 법률 일부개정법률안(양문석의원 등 11인)\n",
      "   제안자: 양문석의원 등 11인\n",
      "   제안일: 2025-05-29\n",
      "\n",
      "5. 법원조직법 일부개정법률안(박범계의원 등 10인)\n",
      "   제안자: 박범계의원 등 10인\n",
      "   제안일: 2025-05-23\n",
      "\n",
      "=== 추가 통계 정보 ===\n",
      "📈 의안 처리 현황:\n",
      "- 원안가결: 217건\n",
      "- 수정가결: 45건\n",
      "- 철회: 38건\n",
      "\n",
      "📅 연도별 의안 발의 현황:\n",
      "- 2024년: 171건\n",
      "- 2025년: 129건\n"
     ]
    }
   ],
   "source": [
    "print(\"=== 데이터 개요 ===\")\n",
    "print(f\"📊 총 수집된 의안: {len(bills_df)}건\")\n",
    "print(f\"👥 전체 의원 수: {len(bill_counts)}명\")\n",
    "print(f\"🎯 분석 대상 의원: {len(active_members)}명 (2건 이상 발의)\")\n",
    "\n",
    "print(\"\\n=== 의원별 발의 현황 (상위 10명) ===\")\n",
    "top_proposers = active_df['proposer'].value_counts().head(100)\n",
    "for i, (member, count) in enumerate(top_proposers.items(), 1):\n",
    "    print(f\"{i:2d}. {member}: {count}건\")\n",
    "\n",
    "print(\"\\n=== 실제 의안 예시 ===\")\n",
    "sample_bills = bills_df[['BILL_NM', 'PROPOSER', 'PROPOSE_DT']].head(5)\n",
    "for i, (_, row) in enumerate(sample_bills.iterrows(), 1):\n",
    "    print(f\"{i}. {row['BILL_NM']}\")\n",
    "    print(f\"   제안자: {row['PROPOSER']}\")\n",
    "    print(f\"   제안일: {row['PROPOSE_DT']}\")\n",
    "    print()\n",
    "\n",
    "print(\"=== 추가 통계 정보 ===\")\n",
    "print(f\"📈 의안 처리 현황:\")\n",
    "proc_counts = bills_df['PROC_RESULT_CD'].value_counts()\n",
    "for result, count in proc_counts.head(5).items():\n",
    "    print(f\"- {result}: {count}건\")\n",
    "\n",
    "print(f\"\\n📅 연도별 의안 발의 현황:\")\n",
    "bills_df['year'] = pd.to_datetime(bills_df['PROPOSE_DT'], errors='coerce').dt.year\n",
    "yearly_counts = bills_df['year'].value_counts().sort_index()\n",
    "for year, count in yearly_counts.items():\n",
    "    if pd.notna(year):\n",
    "        print(f\"- {int(year)}년: {count}건\")"
   ]
  },
  {
   "cell_type": "markdown",
   "id": "392621c5",
   "metadata": {
    "id": "392621c5"
   },
   "source": [
    "## 2.2 정책 분야별 분석"
   ]
  },
  {
   "cell_type": "code",
   "execution_count": 15,
   "id": "bdc2008e",
   "metadata": {
    "colab": {
     "base_uri": "https://localhost:8080/"
    },
    "id": "bdc2008e",
    "outputId": "adb45ff5-93a6-437d-d05f-62d8edff5493"
   },
   "outputs": [
    {
     "name": "stdout",
     "output_type": "stream",
     "text": [
      "dict_keys(['경제', '사회복지', '교육', '환경', '국방안보', '문화체육', '농업', '교통', '외교', '법무'])\n",
      "=== pandas를 활용한 의원별 정책 집중도 계산 ===\n",
      "✅ 15명 의원의 정책 점수 계산 완료\n"
     ]
    }
   ],
   "source": [
    "policy_map = {\n",
    "    '경제': ['경제', '산업', '기업', '투자', '금융', '무역', '상업', '시장', '예산', '세금', '세제'],\n",
    "    '사회복지': ['복지', '사회', '보장', '지원', '급여', '연금', '의료', '건강', '보험', '돌봄'],\n",
    "    '교육': ['교육', '학교', '대학', '학생', '교사', '학습', '연구', '도서관', '과학기술'],\n",
    "    '환경': ['환경', '생태', '기후', '오염', '청정', '에너지', '탄소', '재생', '자연'],\n",
    "    '국방안보': ['국방', '안보', '안전', '군사', '방위', '테러', '사이버', '정보보호'],\n",
    "    '문화체육': ['문화', '체육', '예술', '관광', '스포츠', '영화', '음악', '방송', '언론'],\n",
    "    '농업': ['농업', '농촌', '농민', '축산', '어업', '식품', '농산물', '축산물'],\n",
    "    '교통': ['교통', '도로', '철도', '항공', '해운', '버스', '지하철', '교통비'],\n",
    "    '외교': ['외교', '국제', '조약', '협정', '대외', '외국', '글로벌', '국경'],\n",
    "    '법무': ['법', '법률', '사법', '재판', '검찰', '변호사', '인권', '형사', '민사']\n",
    "}\n",
    "\n",
    "def calc_score(bill_name, keywords):\n",
    "    if pd.isna(bill_name):\n",
    "        return 0\n",
    "    return sum(1 for keyword in keywords if keyword in bill_name)\n",
    "\n",
    "def calc_policy_scores(df):\n",
    "    print(\"=== pandas를 활용한 의원별 정책 집중도 계산 ===\")\n",
    "\n",
    "    for area, keywords in policy_map.items():\n",
    "        df[f'score_{area}'] = df['BILL_NM'].apply(\n",
    "            lambda x: calc_score(x, keywords)\n",
    "        )\n",
    "\n",
    "    score_cols = [f'score_{area}' for area in policy_map.keys()]\n",
    "    scores = df.groupby('proposer')[score_cols].sum()\n",
    "\n",
    "    scores.columns = [col.replace('score_', '') for col in scores.columns]\n",
    "\n",
    "    print(f\"✅ {len(scores)}명 의원의 정책 점수 계산 완료\")\n",
    "\n",
    "    return scores\n",
    "\n",
    "heatmap_df = calc_policy_scores(active_df.copy())"
   ]
  },
  {
   "cell_type": "markdown",
   "id": "583a5311",
   "metadata": {
    "id": "583a5311"
   },
   "source": [
    "# 3. 데이터 시각화 (Data Visualization)\n"
   ]
  },
  {
   "cell_type": "code",
   "execution_count": 16,
   "id": "98f3829a",
   "metadata": {
    "colab": {
     "base_uri": "https://localhost:8080/",
     "height": 834
    },
    "id": "98f3829a",
    "outputId": "b7936907-7b65-4b70-879c-e7f34ae6f220"
   },
   "outputs": [
    {
     "data": {
      "text/html": [
       "<html>\n",
       "<head><meta charset=\"utf-8\" /></head>\n",
       "<body>\n",
       "    <div>            <script src=\"https://cdnjs.cloudflare.com/ajax/libs/mathjax/2.7.5/MathJax.js?config=TeX-AMS-MML_SVG\"></script><script type=\"text/javascript\">if (window.MathJax && window.MathJax.Hub && window.MathJax.Hub.Config) {window.MathJax.Hub.Config({SVG: {font: \"STIX-Web\"}});}</script>                <script type=\"text/javascript\">window.PlotlyConfig = {MathJaxConfig: 'local'};</script>\n",
       "        <script charset=\"utf-8\" src=\"https://cdn.plot.ly/plotly-2.35.2.min.js\"></script>                <div id=\"3d4072e0-e4a4-43c2-8b68-aee351e718f6\" class=\"plotly-graph-div\" style=\"height:800px; width:1000px;\"></div>            <script type=\"text/javascript\">                                    window.PLOTLYENV=window.PLOTLYENV || {};                                    if (document.getElementById(\"3d4072e0-e4a4-43c2-8b68-aee351e718f6\")) {                    Plotly.newPlot(                        \"3d4072e0-e4a4-43c2-8b68-aee351e718f6\",                        [{\"colorscale\":[[0.0,\"rgb(247,251,255)\"],[0.125,\"rgb(222,235,247)\"],[0.25,\"rgb(198,219,239)\"],[0.375,\"rgb(158,202,225)\"],[0.5,\"rgb(107,174,214)\"],[0.625,\"rgb(66,146,198)\"],[0.75,\"rgb(33,113,181)\"],[0.875,\"rgb(8,81,156)\"],[1.0,\"rgb(8,48,107)\"]],\"hoverongaps\":false,\"hovertemplate\":\"의원: %{y}\\u003cbr\\u003e정책분야: %{x}\\u003cbr\\u003e점수: %{z:.0f}\\u003cextra\\u003e\\u003c\\u002fextra\\u003e\",\"showscale\":true,\"text\":[[0,2,0,0,0,0,1,0,0,4],[0,1,0,0,0,0,0,0,0,4],[0,0,0,0,0,0,0,0,0,4],[0,7,0,0,0,0,0,0,0,6],[1,0,0,0,0,0,0,0,0,4],[0,0,0,0,0,0,0,0,0,4],[0,0,1,0,0,0,0,0,0,4],[0,0,2,0,0,0,0,0,0,6],[0,1,0,0,0,0,0,0,0,4],[0,0,0,0,0,0,0,0,0,4],[0,0,0,0,0,0,0,0,0,4],[0,0,3,0,1,0,0,0,0,6],[0,0,0,0,0,1,0,0,0,4],[0,0,2,0,1,0,0,0,0,4],[0,0,0,0,0,2,0,0,0,4]],\"textfont\":{\"size\":10},\"texttemplate\":\"%{text:.0f}\",\"x\":[\"경제\",\"사회복지\",\"교육\",\"환경\",\"국방안보\",\"문화체육\",\"농업\",\"교통\",\"외교\",\"법무\"],\"y\":[\"강선우의원\",\"김미애의원\",\"김성원의원\",\"김예지의원\",\"김정호의원\",\"민형배의원\",\"박용갑의원\",\"백승아의원\",\"서명옥의원\",\"이원택의원\",\"임오경의원\",\"정을호의원\",\"조계원의원\",\"주철현의원\",\"최보윤의원\"],\"z\":[[0,2,0,0,0,0,1,0,0,4],[0,1,0,0,0,0,0,0,0,4],[0,0,0,0,0,0,0,0,0,4],[0,7,0,0,0,0,0,0,0,6],[1,0,0,0,0,0,0,0,0,4],[0,0,0,0,0,0,0,0,0,4],[0,0,1,0,0,0,0,0,0,4],[0,0,2,0,0,0,0,0,0,6],[0,1,0,0,0,0,0,0,0,4],[0,0,0,0,0,0,0,0,0,4],[0,0,0,0,0,0,0,0,0,4],[0,0,3,0,1,0,0,0,0,6],[0,0,0,0,0,1,0,0,0,4],[0,0,2,0,1,0,0,0,0,4],[0,0,0,0,0,2,0,0,0,4]],\"type\":\"heatmap\"}],                        {\"template\":{\"data\":{\"histogram2dcontour\":[{\"type\":\"histogram2dcontour\",\"colorbar\":{\"outlinewidth\":0,\"ticks\":\"\"},\"colorscale\":[[0.0,\"#0d0887\"],[0.1111111111111111,\"#46039f\"],[0.2222222222222222,\"#7201a8\"],[0.3333333333333333,\"#9c179e\"],[0.4444444444444444,\"#bd3786\"],[0.5555555555555556,\"#d8576b\"],[0.6666666666666666,\"#ed7953\"],[0.7777777777777778,\"#fb9f3a\"],[0.8888888888888888,\"#fdca26\"],[1.0,\"#f0f921\"]]}],\"choropleth\":[{\"type\":\"choropleth\",\"colorbar\":{\"outlinewidth\":0,\"ticks\":\"\"}}],\"histogram2d\":[{\"type\":\"histogram2d\",\"colorbar\":{\"outlinewidth\":0,\"ticks\":\"\"},\"colorscale\":[[0.0,\"#0d0887\"],[0.1111111111111111,\"#46039f\"],[0.2222222222222222,\"#7201a8\"],[0.3333333333333333,\"#9c179e\"],[0.4444444444444444,\"#bd3786\"],[0.5555555555555556,\"#d8576b\"],[0.6666666666666666,\"#ed7953\"],[0.7777777777777778,\"#fb9f3a\"],[0.8888888888888888,\"#fdca26\"],[1.0,\"#f0f921\"]]}],\"heatmap\":[{\"type\":\"heatmap\",\"colorbar\":{\"outlinewidth\":0,\"ticks\":\"\"},\"colorscale\":[[0.0,\"#0d0887\"],[0.1111111111111111,\"#46039f\"],[0.2222222222222222,\"#7201a8\"],[0.3333333333333333,\"#9c179e\"],[0.4444444444444444,\"#bd3786\"],[0.5555555555555556,\"#d8576b\"],[0.6666666666666666,\"#ed7953\"],[0.7777777777777778,\"#fb9f3a\"],[0.8888888888888888,\"#fdca26\"],[1.0,\"#f0f921\"]]}],\"heatmapgl\":[{\"type\":\"heatmapgl\",\"colorbar\":{\"outlinewidth\":0,\"ticks\":\"\"},\"colorscale\":[[0.0,\"#0d0887\"],[0.1111111111111111,\"#46039f\"],[0.2222222222222222,\"#7201a8\"],[0.3333333333333333,\"#9c179e\"],[0.4444444444444444,\"#bd3786\"],[0.5555555555555556,\"#d8576b\"],[0.6666666666666666,\"#ed7953\"],[0.7777777777777778,\"#fb9f3a\"],[0.8888888888888888,\"#fdca26\"],[1.0,\"#f0f921\"]]}],\"contourcarpet\":[{\"type\":\"contourcarpet\",\"colorbar\":{\"outlinewidth\":0,\"ticks\":\"\"}}],\"contour\":[{\"type\":\"contour\",\"colorbar\":{\"outlinewidth\":0,\"ticks\":\"\"},\"colorscale\":[[0.0,\"#0d0887\"],[0.1111111111111111,\"#46039f\"],[0.2222222222222222,\"#7201a8\"],[0.3333333333333333,\"#9c179e\"],[0.4444444444444444,\"#bd3786\"],[0.5555555555555556,\"#d8576b\"],[0.6666666666666666,\"#ed7953\"],[0.7777777777777778,\"#fb9f3a\"],[0.8888888888888888,\"#fdca26\"],[1.0,\"#f0f921\"]]}],\"surface\":[{\"type\":\"surface\",\"colorbar\":{\"outlinewidth\":0,\"ticks\":\"\"},\"colorscale\":[[0.0,\"#0d0887\"],[0.1111111111111111,\"#46039f\"],[0.2222222222222222,\"#7201a8\"],[0.3333333333333333,\"#9c179e\"],[0.4444444444444444,\"#bd3786\"],[0.5555555555555556,\"#d8576b\"],[0.6666666666666666,\"#ed7953\"],[0.7777777777777778,\"#fb9f3a\"],[0.8888888888888888,\"#fdca26\"],[1.0,\"#f0f921\"]]}],\"mesh3d\":[{\"type\":\"mesh3d\",\"colorbar\":{\"outlinewidth\":0,\"ticks\":\"\"}}],\"scatter\":[{\"fillpattern\":{\"fillmode\":\"overlay\",\"size\":10,\"solidity\":0.2},\"type\":\"scatter\"}],\"parcoords\":[{\"type\":\"parcoords\",\"line\":{\"colorbar\":{\"outlinewidth\":0,\"ticks\":\"\"}}}],\"scatterpolargl\":[{\"type\":\"scatterpolargl\",\"marker\":{\"colorbar\":{\"outlinewidth\":0,\"ticks\":\"\"}}}],\"bar\":[{\"error_x\":{\"color\":\"#2a3f5f\"},\"error_y\":{\"color\":\"#2a3f5f\"},\"marker\":{\"line\":{\"color\":\"#E5ECF6\",\"width\":0.5},\"pattern\":{\"fillmode\":\"overlay\",\"size\":10,\"solidity\":0.2}},\"type\":\"bar\"}],\"scattergeo\":[{\"type\":\"scattergeo\",\"marker\":{\"colorbar\":{\"outlinewidth\":0,\"ticks\":\"\"}}}],\"scatterpolar\":[{\"type\":\"scatterpolar\",\"marker\":{\"colorbar\":{\"outlinewidth\":0,\"ticks\":\"\"}}}],\"histogram\":[{\"marker\":{\"pattern\":{\"fillmode\":\"overlay\",\"size\":10,\"solidity\":0.2}},\"type\":\"histogram\"}],\"scattergl\":[{\"type\":\"scattergl\",\"marker\":{\"colorbar\":{\"outlinewidth\":0,\"ticks\":\"\"}}}],\"scatter3d\":[{\"type\":\"scatter3d\",\"line\":{\"colorbar\":{\"outlinewidth\":0,\"ticks\":\"\"}},\"marker\":{\"colorbar\":{\"outlinewidth\":0,\"ticks\":\"\"}}}],\"scattermapbox\":[{\"type\":\"scattermapbox\",\"marker\":{\"colorbar\":{\"outlinewidth\":0,\"ticks\":\"\"}}}],\"scatterternary\":[{\"type\":\"scatterternary\",\"marker\":{\"colorbar\":{\"outlinewidth\":0,\"ticks\":\"\"}}}],\"scattercarpet\":[{\"type\":\"scattercarpet\",\"marker\":{\"colorbar\":{\"outlinewidth\":0,\"ticks\":\"\"}}}],\"carpet\":[{\"aaxis\":{\"endlinecolor\":\"#2a3f5f\",\"gridcolor\":\"white\",\"linecolor\":\"white\",\"minorgridcolor\":\"white\",\"startlinecolor\":\"#2a3f5f\"},\"baxis\":{\"endlinecolor\":\"#2a3f5f\",\"gridcolor\":\"white\",\"linecolor\":\"white\",\"minorgridcolor\":\"white\",\"startlinecolor\":\"#2a3f5f\"},\"type\":\"carpet\"}],\"table\":[{\"cells\":{\"fill\":{\"color\":\"#EBF0F8\"},\"line\":{\"color\":\"white\"}},\"header\":{\"fill\":{\"color\":\"#C8D4E3\"},\"line\":{\"color\":\"white\"}},\"type\":\"table\"}],\"barpolar\":[{\"marker\":{\"line\":{\"color\":\"#E5ECF6\",\"width\":0.5},\"pattern\":{\"fillmode\":\"overlay\",\"size\":10,\"solidity\":0.2}},\"type\":\"barpolar\"}],\"pie\":[{\"automargin\":true,\"type\":\"pie\"}]},\"layout\":{\"autotypenumbers\":\"strict\",\"colorway\":[\"#636efa\",\"#EF553B\",\"#00cc96\",\"#ab63fa\",\"#FFA15A\",\"#19d3f3\",\"#FF6692\",\"#B6E880\",\"#FF97FF\",\"#FECB52\"],\"font\":{\"color\":\"#2a3f5f\"},\"hovermode\":\"closest\",\"hoverlabel\":{\"align\":\"left\"},\"paper_bgcolor\":\"white\",\"plot_bgcolor\":\"#E5ECF6\",\"polar\":{\"bgcolor\":\"#E5ECF6\",\"angularaxis\":{\"gridcolor\":\"white\",\"linecolor\":\"white\",\"ticks\":\"\"},\"radialaxis\":{\"gridcolor\":\"white\",\"linecolor\":\"white\",\"ticks\":\"\"}},\"ternary\":{\"bgcolor\":\"#E5ECF6\",\"aaxis\":{\"gridcolor\":\"white\",\"linecolor\":\"white\",\"ticks\":\"\"},\"baxis\":{\"gridcolor\":\"white\",\"linecolor\":\"white\",\"ticks\":\"\"},\"caxis\":{\"gridcolor\":\"white\",\"linecolor\":\"white\",\"ticks\":\"\"}},\"coloraxis\":{\"colorbar\":{\"outlinewidth\":0,\"ticks\":\"\"}},\"colorscale\":{\"sequential\":[[0.0,\"#0d0887\"],[0.1111111111111111,\"#46039f\"],[0.2222222222222222,\"#7201a8\"],[0.3333333333333333,\"#9c179e\"],[0.4444444444444444,\"#bd3786\"],[0.5555555555555556,\"#d8576b\"],[0.6666666666666666,\"#ed7953\"],[0.7777777777777778,\"#fb9f3a\"],[0.8888888888888888,\"#fdca26\"],[1.0,\"#f0f921\"]],\"sequentialminus\":[[0.0,\"#0d0887\"],[0.1111111111111111,\"#46039f\"],[0.2222222222222222,\"#7201a8\"],[0.3333333333333333,\"#9c179e\"],[0.4444444444444444,\"#bd3786\"],[0.5555555555555556,\"#d8576b\"],[0.6666666666666666,\"#ed7953\"],[0.7777777777777778,\"#fb9f3a\"],[0.8888888888888888,\"#fdca26\"],[1.0,\"#f0f921\"]],\"diverging\":[[0,\"#8e0152\"],[0.1,\"#c51b7d\"],[0.2,\"#de77ae\"],[0.3,\"#f1b6da\"],[0.4,\"#fde0ef\"],[0.5,\"#f7f7f7\"],[0.6,\"#e6f5d0\"],[0.7,\"#b8e186\"],[0.8,\"#7fbc41\"],[0.9,\"#4d9221\"],[1,\"#276419\"]]},\"xaxis\":{\"gridcolor\":\"white\",\"linecolor\":\"white\",\"ticks\":\"\",\"title\":{\"standoff\":15},\"zerolinecolor\":\"white\",\"automargin\":true,\"zerolinewidth\":2},\"yaxis\":{\"gridcolor\":\"white\",\"linecolor\":\"white\",\"ticks\":\"\",\"title\":{\"standoff\":15},\"zerolinecolor\":\"white\",\"automargin\":true,\"zerolinewidth\":2},\"scene\":{\"xaxis\":{\"backgroundcolor\":\"#E5ECF6\",\"gridcolor\":\"white\",\"linecolor\":\"white\",\"showbackground\":true,\"ticks\":\"\",\"zerolinecolor\":\"white\",\"gridwidth\":2},\"yaxis\":{\"backgroundcolor\":\"#E5ECF6\",\"gridcolor\":\"white\",\"linecolor\":\"white\",\"showbackground\":true,\"ticks\":\"\",\"zerolinecolor\":\"white\",\"gridwidth\":2},\"zaxis\":{\"backgroundcolor\":\"#E5ECF6\",\"gridcolor\":\"white\",\"linecolor\":\"white\",\"showbackground\":true,\"ticks\":\"\",\"zerolinecolor\":\"white\",\"gridwidth\":2}},\"shapedefaults\":{\"line\":{\"color\":\"#2a3f5f\"}},\"annotationdefaults\":{\"arrowcolor\":\"#2a3f5f\",\"arrowhead\":0,\"arrowwidth\":1},\"geo\":{\"bgcolor\":\"white\",\"landcolor\":\"#E5ECF6\",\"subunitcolor\":\"white\",\"showland\":true,\"showlakes\":true,\"lakecolor\":\"white\"},\"title\":{\"x\":0.05},\"mapbox\":{\"style\":\"light\"}}},\"xaxis\":{\"title\":{\"text\":\"정책 분야\"},\"tickangle\":45},\"yaxis\":{\"title\":{\"text\":\"의원명\"},\"tickangle\":0},\"title\":{\"text\":\"의원별 정책 분야 집중도\"},\"width\":1000,\"height\":800},                        {\"responsive\": true}                    ).then(function(){\n",
       "                            \n",
       "var gd = document.getElementById('3d4072e0-e4a4-43c2-8b68-aee351e718f6');\n",
       "var x = new MutationObserver(function (mutations, observer) {{\n",
       "        var display = window.getComputedStyle(gd).display;\n",
       "        if (!display || display === 'none') {{\n",
       "            console.log([gd, 'removed!']);\n",
       "            Plotly.purge(gd);\n",
       "            observer.disconnect();\n",
       "        }}\n",
       "}});\n",
       "\n",
       "// Listen for the removal of the full notebook cells\n",
       "var notebookContainer = gd.closest('#notebook-container');\n",
       "if (notebookContainer) {{\n",
       "    x.observe(notebookContainer, {childList: true});\n",
       "}}\n",
       "\n",
       "// Listen for the clearing of the current output cell\n",
       "var outputEl = gd.closest('.output');\n",
       "if (outputEl) {{\n",
       "    x.observe(outputEl, {childList: true});\n",
       "}}\n",
       "\n",
       "                        })                };                            </script>        </div>\n",
       "</body>\n",
       "</html>"
      ]
     },
     "metadata": {},
     "output_type": "display_data"
    },
    {
     "name": "stdout",
     "output_type": "stream",
     "text": [
      "✅ 인터랙티브 히트맵 생성 완료\n"
     ]
    }
   ],
   "source": [
    "def create_heatmap(df, title=\"의원별 정책 분야 집중도\"):\n",
    "    df_display = df.copy()\n",
    "    df_display.index = [name[:13] + '..' if len(name) > 15 else name for name in df_display.index]\n",
    "\n",
    "    fig = go.Figure(data=go.Heatmap(\n",
    "        z=df_display.values,\n",
    "        x=df_display.columns,\n",
    "        y=df_display.index,\n",
    "        colorscale='Blues',\n",
    "        showscale=True,\n",
    "        text=df_display.values,\n",
    "        texttemplate=\"%{text:.0f}\",\n",
    "        textfont={\"size\": 10},\n",
    "        hoverongaps=False,\n",
    "        hovertemplate='의원: %{y}<br>정책분야: %{x}<br>점수: %{z:.0f}<extra></extra>'\n",
    "    ))\n",
    "\n",
    "    fig.update_layout(\n",
    "        title=title,\n",
    "        xaxis_title=\"정책 분야\",\n",
    "        yaxis_title=\"의원명\",\n",
    "        xaxis=dict(tickangle=45),\n",
    "        yaxis=dict(tickangle=0),\n",
    "        width=1000,\n",
    "        height=800\n",
    "    )\n",
    "\n",
    "    return fig\n",
    "\n",
    "fig = create_heatmap(heatmap_df)\n",
    "fig.show()\n",
    "\n",
    "print(\"✅ 인터랙티브 히트맵 생성 완료\")"
   ]
  },
  {
   "cell_type": "markdown",
   "id": "10c6ddb8",
   "metadata": {},
   "source": [
    "# 위원회와 의원 관심분야 순위 거리 분석\n",
    "\n",
    "## 분석 목표\n",
    "각 의원이 속한 위원회와 실제 관심분야 간의 순위 기반 거리를 계산하여 정책 효율성을 분석합니다.\n",
    "\n",
    "### 분석 방법\n",
    "1. 각 의원의 정책 분야별 점수를 높은 순으로 정렬\n",
    "2. 해당 의원이 속한 위원회의 분야가 몇 번째 순위에 있는지 확인\n",
    "3. 그 순위가 바로 \"거리\" (0번째가 가장 가까움, 9번째가 가장 멀음)\n",
    "\n",
    "### 위원회-분야 매핑\n",
    "- **경제**: 기획재정위원회, 산업통상자원중소벤처기업위원회\n",
    "- **사회복지**: 보건복지위원회\n",
    "- **교육**: 교육위원회\n",
    "- **환경**: 환경노동위원회\n",
    "- **국방안보**: 국방위원회, 정보위원회\n",
    "- **문화체육**: 문화체육관광위원회\n",
    "- **농업**: 농림축산식품해양수산위원회\n",
    "- **교통**: 국토교통위원회\n",
    "- **외교**: 외교통일위원회\n",
    "- **법무**: 법제사법위원회, 행정안전위원회"
   ]
  },
  {
   "cell_type": "code",
   "execution_count": null,
   "id": "38c01654",
   "metadata": {},
   "outputs": [
    {
     "name": "stdout",
     "output_type": "stream",
     "text": [
      "라이브러리 임포트 및 한글 폰트 설정 완료\n"
     ]
    }
   ],
   "source": [
    "import requests\n",
    "import pandas as pd\n",
    "import numpy as np\n",
    "import json\n",
    "from collections import defaultdict\n",
    "import matplotlib.pyplot as plt\n",
    "import seaborn as sns\n",
    "import plotly.express as px\n",
    "import plotly.graph_objects as go\n",
    "import platform\n",
    "import warnings\n",
    "\n",
    "# 한글 폰트 설정\n",
    "plt.rcParams['font.family'] = 'NanumGothic'\n",
    "plt.rcParams['axes.unicode_minus'] = False # 마이너스 폰트 깨짐 방지\n",
    "\n",
    "warnings.filterwarnings('ignore')\n",
    "\n",
    "print(\"라이브러리 임포트 및 한글 폰트 설정 완료\")"
   ]
  },
  {
   "cell_type": "code",
   "execution_count": null,
   "id": "2feb15f5",
   "metadata": {},
   "outputs": [],
   "source": [
    "committee_mapping = {\n",
    "    \"기획재정위원회\": \"경제\", \"산업통상자원중소벤처기업위원회\": \"경제\",\n",
    "    \"보건복지위원회\": \"사회복지\", \"교육위원회\": \"교육\", \"환경노동위원회\": \"환경\",\n",
    "    \"국방위원회\": \"국방안보\", \"정보위원회\": \"국방안보\", \"문화체육관광위원회\": \"문화체육\",\n",
    "    \"농림축산식품해양수산위원회\": \"농업\", \"국토교통위원회\": \"교통\", \"외교통일위원회\": \"외교\",\n",
    "    \"법제사법위원회\": \"법무\", \"행정안전위원회\": \"법무\", \"과학기술정보방송통신위원회\": \"경제\",\n",
    "    \"여성가족위원회\": \"사회복지\", \"예산결산특별위원회\": \"경제\", \"윤리특별위원회\": \"법무\"\n",
    "}"
   ]
  },
  {
   "cell_type": "code",
   "execution_count": null,
   "id": "92439279",
   "metadata": {},
   "outputs": [],
   "source": [
    "with open('committee.json', 'r', encoding='utf-8') as f:\n",
    "    committee_data = json.load(f)\n",
    "policy_df = pd.read_csv('final_real_member_policy_heatmap.csv', index_col=0)\n",
    "\n",
    "ranking_df = policy_df.rank(axis=1, method='min', ascending=False) - 1\n",
    "\n",
    "members_data = []\n",
    "for committee, info in committee_data.items():\n",
    "    field = committee_mapping.get(committee)\n",
    "    if field:\n",
    "        for member in info['members']:\n",
    "            name = member['name'] + \"의원\"\n",
    "            if name in policy_df.index:\n",
    "                members_data.append({\n",
    "                    'name': name, 'committee': committee, 'field': field, \n",
    "                    'party': member['party']\n",
    "                })\n",
    "\n",
    "df = pd.DataFrame(members_data)\n",
    "df['distance'] = df.apply(lambda x: ranking_df.loc[x['name'], x['field']], axis=1)"
   ]
  },
  {
   "cell_type": "code",
   "execution_count": null,
   "id": "20e82fe0",
   "metadata": {},
   "outputs": [
    {
     "name": "stdout",
     "output_type": "stream",
     "text": [
      "\n",
      "📊 정책 분야별 상세 분석:\n",
      "============================================================\n",
      "       의원수  평균거리  표준편차  최소거리  최대거리\n",
      "field                             \n",
      "경제       2  1.00  0.00   1.0   1.0\n",
      "교육       2  1.00  0.00   1.0   1.0\n",
      "문화체육     3  1.00  0.00   1.0   1.0\n",
      "사회복지     7  1.14  0.69   0.0   2.0\n",
      "교통       1  2.00   NaN   2.0   2.0\n",
      "농업       2  2.00  1.41   1.0   3.0\n"
     ]
    },
    {
     "data": {
      "image/png": "[encoded data removed]",
      "text/plain": [
       "<Figure size 1000x800 with 1 Axes>"
      ]
     },
     "metadata": {},
     "output_type": "display_data"
    },
    {
     "name": "stdout",
     "output_type": "stream",
     "text": [
      "\n",
      "📊 관심사-위원회 일치도 분석 (비율 기준):\n",
      "   • 총 의원 수: 17명\n",
      "   • 완벽 일치 (거리=0): 1명 (5.9%)\n",
      "   • 적절한 배치 (거리≤1): 13명 (76.5%)\n",
      "   • 부적절한 배치 (거리≥2): 4명 (23.5%)\n",
      "   • 평균 거리: 1.24\n",
      "   • 전체 배치 효율성: 76.5%\n"
     ]
    }
   ],
   "source": [
    "# 분야별 통계 요약\n",
    "print(\"\\n📊 정책 분야별 상세 분석:\")\n",
    "print(\"=\" * 60)\n",
    "field_stats = df.groupby('field').agg({\n",
    "    'distance': ['count', 'mean', 'std', 'min', 'max']\n",
    "}).round(2)\n",
    "field_stats.columns = ['의원수', '평균거리', '표준편차', '최소거리', '최대거리']\n",
    "field_stats = field_stats.sort_values('평균거리')\n",
    "print(field_stats)\n",
    "\n",
    "# 파이차트로 전체 비율 한눈에 보기\n",
    "plt.figure(figsize=(10, 8))\n",
    "\n",
    "# 거리 범주별 그룹화\n",
    "total_members = len(df)\n",
    "categories = ['완벽 일치\\n(거리=0)', '적절한 배치\\n(거리=1)', '부적절한 배치\\n(거리≥2)']\n",
    "perfect = len(df[df['distance'] == 0])\n",
    "good = len(df[df['distance'] == 1])\n",
    "poor = len(df[df['distance'] >= 2])\n",
    "values = [perfect, good, poor]\n",
    "colors_pie = ['#2E8B57', '#87CEEB', '#FF6B6B']\n",
    "\n",
    "wedges, texts, autotexts = plt.pie(values, labels=categories, colors=colors_pie, autopct='%1.1f%%', \n",
    "                                   startangle=90, textprops={'fontsize': 12})\n",
    "\n",
    "# 중앙에 총 의원 수 표시\n",
    "plt.text(0, 0, f'총 {total_members}명', ha='center', va='center', fontsize=16, fontweight='bold')\n",
    "\n",
    "plt.title('의원 배치 효율성 전체 비율', fontsize=18, fontweight='bold', pad=20)\n",
    "plt.axis('equal')\n",
    "plt.tight_layout()\n",
    "plt.show()\n",
    "\n",
    "# 요약 통계\n",
    "print(f\"\\n📊 관심사-위원회 일치도 분석 (비율 기준):\")\n",
    "print(f\"   • 총 의원 수: {total_members}명\")\n",
    "print(f\"   • 완벽 일치 (거리=0): {perfect}명 ({perfect/total_members*100:.1f}%)\")\n",
    "print(f\"   • 적절한 배치 (거리≤1): {perfect+good}명 ({(perfect+good)/total_members*100:.1f}%)\")\n",
    "print(f\"   • 부적절한 배치 (거리≥2): {poor}명 ({poor/total_members*100:.1f}%)\")\n",
    "print(f\"   • 평균 거리: {df['distance'].mean():.2f}\")\n",
    "print(f\"   • 전체 배치 효율성: {(perfect+good)/total_members*100:.1f}%\")"
   ]
  }
 ],
 "metadata": {
  "colab": {
   "collapsed_sections": [
    "05b7dc86",
    "1c8d937a",
    "2191c420"
   ],
   "include_colab_link": true,
   "provenance": []
  },
  "kernelspec": {
   "display_name": "Python 3",
   "name": "python3"
  },
  "language_info": {
   "name": "python"
  }
 },
 "nbformat": 4,
 "nbformat_minor": 5
}
